{
  "nbformat": 4,
  "nbformat_minor": 0,
  "metadata": {
    "colab": {
      "provenance": [],
      "collapsed_sections": [],
      "authorship_tag": "ABX9TyNJMxofU00KyYwzFJz1AdmE",
      "include_colab_link": true
    },
    "kernelspec": {
      "name": "python3",
      "display_name": "Python 3"
    },
    "language_info": {
      "name": "python"
    }
  },
  "cells": [
    {
      "cell_type": "markdown",
      "metadata": {
        "id": "view-in-github",
        "colab_type": "text"
      },
      "source": [
        "<a href=\"https://colab.research.google.com/github/kurt980/OA_practice/blob/main/McKinsey_practice.ipynb\" target=\"_parent\"><img src=\"https://colab.research.google.com/assets/colab-badge.svg\" alt=\"Open In Colab\"/></a>"
      ]
    },
    {
      "cell_type": "code",
      "source": [
        "import pandas as pd\n",
        "import numpy as np\n",
        "import sklearn\n",
        "import datetime"
      ],
      "metadata": {
        "id": "Ojic2TeVbXH5"
      },
      "execution_count": 23,
      "outputs": []
    },
    {
      "cell_type": "code",
      "execution_count": 8,
      "metadata": {
        "id": "_HHzAeVRZ4Ld"
      },
      "outputs": [],
      "source": [
        "# initialize list of lists\n",
        "data = [['tom', 10], ['tom',20], ['nick', 12], ['juli',5], ['juli', 14]]\n",
        "  \n",
        "# Create the pandas DataFrame\n",
        "df = pd.DataFrame(data, columns=['Name', 'Age'])"
      ]
    },
    {
      "cell_type": "code",
      "source": [
        "df"
      ],
      "metadata": {
        "colab": {
          "base_uri": "https://localhost:8080/",
          "height": 206
        },
        "id": "iTveybfKceqi",
        "outputId": "2b4ea29e-e5f4-402f-9b60-75ebaa385c5c"
      },
      "execution_count": 28,
      "outputs": [
        {
          "output_type": "execute_result",
          "data": {
            "text/plain": [
              "   Name  Age  Height       date\n",
              "0   tom   10     1.5 2022-01-01\n",
              "1   tom   20     1.6 2022-10-01\n",
              "2  nick   12     1.9 2022-11-01\n",
              "3  juli    5     1.7 2022-04-01\n",
              "4  juli   14     1.7 2022-02-01"
            ],
            "text/html": [
              "\n",
              "  <div id=\"df-104ca61e-af24-463b-abb9-108116126be1\">\n",
              "    <div class=\"colab-df-container\">\n",
              "      <div>\n",
              "<style scoped>\n",
              "    .dataframe tbody tr th:only-of-type {\n",
              "        vertical-align: middle;\n",
              "    }\n",
              "\n",
              "    .dataframe tbody tr th {\n",
              "        vertical-align: top;\n",
              "    }\n",
              "\n",
              "    .dataframe thead th {\n",
              "        text-align: right;\n",
              "    }\n",
              "</style>\n",
              "<table border=\"1\" class=\"dataframe\">\n",
              "  <thead>\n",
              "    <tr style=\"text-align: right;\">\n",
              "      <th></th>\n",
              "      <th>Name</th>\n",
              "      <th>Age</th>\n",
              "      <th>Height</th>\n",
              "      <th>date</th>\n",
              "    </tr>\n",
              "  </thead>\n",
              "  <tbody>\n",
              "    <tr>\n",
              "      <th>0</th>\n",
              "      <td>tom</td>\n",
              "      <td>10</td>\n",
              "      <td>1.5</td>\n",
              "      <td>2022-01-01</td>\n",
              "    </tr>\n",
              "    <tr>\n",
              "      <th>1</th>\n",
              "      <td>tom</td>\n",
              "      <td>20</td>\n",
              "      <td>1.6</td>\n",
              "      <td>2022-10-01</td>\n",
              "    </tr>\n",
              "    <tr>\n",
              "      <th>2</th>\n",
              "      <td>nick</td>\n",
              "      <td>12</td>\n",
              "      <td>1.9</td>\n",
              "      <td>2022-11-01</td>\n",
              "    </tr>\n",
              "    <tr>\n",
              "      <th>3</th>\n",
              "      <td>juli</td>\n",
              "      <td>5</td>\n",
              "      <td>1.7</td>\n",
              "      <td>2022-04-01</td>\n",
              "    </tr>\n",
              "    <tr>\n",
              "      <th>4</th>\n",
              "      <td>juli</td>\n",
              "      <td>14</td>\n",
              "      <td>1.7</td>\n",
              "      <td>2022-02-01</td>\n",
              "    </tr>\n",
              "  </tbody>\n",
              "</table>\n",
              "</div>\n",
              "      <button class=\"colab-df-convert\" onclick=\"convertToInteractive('df-104ca61e-af24-463b-abb9-108116126be1')\"\n",
              "              title=\"Convert this dataframe to an interactive table.\"\n",
              "              style=\"display:none;\">\n",
              "        \n",
              "  <svg xmlns=\"http://www.w3.org/2000/svg\" height=\"24px\"viewBox=\"0 0 24 24\"\n",
              "       width=\"24px\">\n",
              "    <path d=\"M0 0h24v24H0V0z\" fill=\"none\"/>\n",
              "    <path d=\"M18.56 5.44l.94 2.06.94-2.06 2.06-.94-2.06-.94-.94-2.06-.94 2.06-2.06.94zm-11 1L8.5 8.5l.94-2.06 2.06-.94-2.06-.94L8.5 2.5l-.94 2.06-2.06.94zm10 10l.94 2.06.94-2.06 2.06-.94-2.06-.94-.94-2.06-.94 2.06-2.06.94z\"/><path d=\"M17.41 7.96l-1.37-1.37c-.4-.4-.92-.59-1.43-.59-.52 0-1.04.2-1.43.59L10.3 9.45l-7.72 7.72c-.78.78-.78 2.05 0 2.83L4 21.41c.39.39.9.59 1.41.59.51 0 1.02-.2 1.41-.59l7.78-7.78 2.81-2.81c.8-.78.8-2.07 0-2.86zM5.41 20L4 18.59l7.72-7.72 1.47 1.35L5.41 20z\"/>\n",
              "  </svg>\n",
              "      </button>\n",
              "      \n",
              "  <style>\n",
              "    .colab-df-container {\n",
              "      display:flex;\n",
              "      flex-wrap:wrap;\n",
              "      gap: 12px;\n",
              "    }\n",
              "\n",
              "    .colab-df-convert {\n",
              "      background-color: #E8F0FE;\n",
              "      border: none;\n",
              "      border-radius: 50%;\n",
              "      cursor: pointer;\n",
              "      display: none;\n",
              "      fill: #1967D2;\n",
              "      height: 32px;\n",
              "      padding: 0 0 0 0;\n",
              "      width: 32px;\n",
              "    }\n",
              "\n",
              "    .colab-df-convert:hover {\n",
              "      background-color: #E2EBFA;\n",
              "      box-shadow: 0px 1px 2px rgba(60, 64, 67, 0.3), 0px 1px 3px 1px rgba(60, 64, 67, 0.15);\n",
              "      fill: #174EA6;\n",
              "    }\n",
              "\n",
              "    [theme=dark] .colab-df-convert {\n",
              "      background-color: #3B4455;\n",
              "      fill: #D2E3FC;\n",
              "    }\n",
              "\n",
              "    [theme=dark] .colab-df-convert:hover {\n",
              "      background-color: #434B5C;\n",
              "      box-shadow: 0px 1px 3px 1px rgba(0, 0, 0, 0.15);\n",
              "      filter: drop-shadow(0px 1px 2px rgba(0, 0, 0, 0.3));\n",
              "      fill: #FFFFFF;\n",
              "    }\n",
              "  </style>\n",
              "\n",
              "      <script>\n",
              "        const buttonEl =\n",
              "          document.querySelector('#df-104ca61e-af24-463b-abb9-108116126be1 button.colab-df-convert');\n",
              "        buttonEl.style.display =\n",
              "          google.colab.kernel.accessAllowed ? 'block' : 'none';\n",
              "\n",
              "        async function convertToInteractive(key) {\n",
              "          const element = document.querySelector('#df-104ca61e-af24-463b-abb9-108116126be1');\n",
              "          const dataTable =\n",
              "            await google.colab.kernel.invokeFunction('convertToInteractive',\n",
              "                                                     [key], {});\n",
              "          if (!dataTable) return;\n",
              "\n",
              "          const docLinkHtml = 'Like what you see? Visit the ' +\n",
              "            '<a target=\"_blank\" href=https://colab.research.google.com/notebooks/data_table.ipynb>data table notebook</a>'\n",
              "            + ' to learn more about interactive tables.';\n",
              "          element.innerHTML = '';\n",
              "          dataTable['output_type'] = 'display_data';\n",
              "          await google.colab.output.renderOutput(dataTable, element);\n",
              "          const docLink = document.createElement('div');\n",
              "          docLink.innerHTML = docLinkHtml;\n",
              "          element.appendChild(docLink);\n",
              "        }\n",
              "      </script>\n",
              "    </div>\n",
              "  </div>\n",
              "  "
            ]
          },
          "metadata": {},
          "execution_count": 28
        }
      ]
    },
    {
      "cell_type": "markdown",
      "source": [
        "Fill NAs\n",
        "https://www.geeksforgeeks.org/replace-nan-values-with-zeros-in-pandas-dataframe/"
      ],
      "metadata": {
        "id": "I9vGijZwbKVa"
      }
    },
    {
      "cell_type": "code",
      "source": [
        "#For one column using pandas:\n",
        "df['DataFrame Column'] = df['DataFrame Column'].fillna(0)\n",
        "#For one column using numpy:\n",
        "df['DataFrame Column'] = df['DataFrame Column'].replace(np.nan, 0)\n",
        "#For the whole DataFrame using pandas:\n",
        "df.fillna(0)\n",
        "#For the whole DataFrame using numpy:\n",
        "df.replace(np.nan, 0)"
      ],
      "metadata": {
        "id": "gHK0zomAbKmi"
      },
      "execution_count": null,
      "outputs": []
    },
    {
      "cell_type": "markdown",
      "source": [
        "Convert to float\n",
        "https://sparkbyexamples.com/pandas/pandas-convert-string-to-float-type-dataframe/"
      ],
      "metadata": {
        "id": "0We0RapubxAA"
      }
    },
    {
      "cell_type": "code",
      "source": [
        "# convert \"Fee\" from string to float\n",
        "df['Age'] = df['Age'].astype(float)"
      ],
      "metadata": {
        "id": "n5D2YWkkbyXH"
      },
      "execution_count": 3,
      "outputs": []
    },
    {
      "cell_type": "markdown",
      "source": [
        "Find name for highest average"
      ],
      "metadata": {
        "id": "bRAzFv63cgn6"
      }
    },
    {
      "cell_type": "code",
      "source": [
        "df = df.groupby(['Name'])[['Age']].mean().reset_index()"
      ],
      "metadata": {
        "id": "HuDd2aIbclJh"
      },
      "execution_count": null,
      "outputs": []
    },
    {
      "cell_type": "code",
      "source": [
        "df = df.sort_values(by = ['Age'], ascending = False).reset_index()"
      ],
      "metadata": {
        "id": "36W3k2EydK8O"
      },
      "execution_count": null,
      "outputs": []
    },
    {
      "cell_type": "code",
      "source": [
        "df['Name'][0]"
      ],
      "metadata": {
        "colab": {
          "base_uri": "https://localhost:8080/",
          "height": 36
        },
        "id": "XNlzBN7Uc404",
        "outputId": "17d93f2e-4058-4077-9f43-fd5acd3c995f"
      },
      "execution_count": null,
      "outputs": [
        {
          "output_type": "execute_result",
          "data": {
            "text/plain": [
              "'tom'"
            ],
            "application/vnd.google.colaboratory.intrinsic+json": {
              "type": "string"
            }
          },
          "metadata": {},
          "execution_count": 22
        }
      ]
    },
    {
      "cell_type": "markdown",
      "source": [
        "Remove non-numeric characters"
      ],
      "metadata": {
        "id": "Y3BjlisWepeW"
      }
    },
    {
      "cell_type": "code",
      "source": [
        "df['Name'] = df['Name'].str.extract('(\\d+)', expand=False)"
      ],
      "metadata": {
        "id": "Xr_1th6Eeodk"
      },
      "execution_count": 5,
      "outputs": []
    },
    {
      "cell_type": "markdown",
      "source": [
        "Highest correlation"
      ],
      "metadata": {
        "id": "nEr3EJx1hLoD"
      }
    },
    {
      "cell_type": "code",
      "source": [
        "df['Height'] = (1.5,1.6,1.9,1.7,1.7)"
      ],
      "metadata": {
        "id": "Kxu6A2oUhaX5"
      },
      "execution_count": 10,
      "outputs": []
    },
    {
      "cell_type": "code",
      "source": [
        "corr_matrix = abs(df.corr())"
      ],
      "metadata": {
        "id": "zDauMB9UhO5Q"
      },
      "execution_count": 14,
      "outputs": []
    },
    {
      "cell_type": "code",
      "source": [
        "sol = (corr_matrix.where(np.triu(np.ones(corr_matrix.shape), k=1).astype(bool))\n",
        "                  .stack()\n",
        "                  .sort_values(ascending=False))"
      ],
      "metadata": {
        "id": "tYT2pQDHiSTW"
      },
      "execution_count": 15,
      "outputs": []
    },
    {
      "cell_type": "code",
      "source": [
        "sol"
      ],
      "metadata": {
        "colab": {
          "base_uri": "https://localhost:8080/"
        },
        "id": "wYSC2iZcjBXf",
        "outputId": "d7fce26f-911d-4e5a-c1e9-fe1746d223bd"
      },
      "execution_count": 16,
      "outputs": [
        {
          "output_type": "execute_result",
          "data": {
            "text/plain": [
              "Age  Height    0.116549\n",
              "dtype: float64"
            ]
          },
          "metadata": {},
          "execution_count": 16
        }
      ]
    },
    {
      "cell_type": "code",
      "source": [
        "np.triu(np.ones(corr_matrix.shape),k=1)"
      ],
      "metadata": {
        "colab": {
          "base_uri": "https://localhost:8080/"
        },
        "id": "I_dMGsrPjKbK",
        "outputId": "f37499ca-cf29-4440-a224-e954a1efd969"
      },
      "execution_count": 20,
      "outputs": [
        {
          "output_type": "execute_result",
          "data": {
            "text/plain": [
              "array([[0., 1.],\n",
              "       [0., 0.]])"
            ]
          },
          "metadata": {},
          "execution_count": 20
        }
      ]
    },
    {
      "cell_type": "code",
      "source": [
        "np.ones(corr_matrix.shape)"
      ],
      "metadata": {
        "colab": {
          "base_uri": "https://localhost:8080/"
        },
        "id": "lfI_0Cx7jacr",
        "outputId": "1975248b-c305-47b2-bf51-d812ab672355"
      },
      "execution_count": 21,
      "outputs": [
        {
          "output_type": "execute_result",
          "data": {
            "text/plain": [
              "array([[1., 1.],\n",
              "       [1., 1.]])"
            ]
          },
          "metadata": {},
          "execution_count": 21
        }
      ]
    },
    {
      "cell_type": "code",
      "source": [
        "np.triu(corr_matrix, k = 1)"
      ],
      "metadata": {
        "colab": {
          "base_uri": "https://localhost:8080/"
        },
        "id": "r-PSK00JjDb4",
        "outputId": "1b1f7fa3-279a-4512-9f9a-7f5844d273ef"
      },
      "execution_count": 22,
      "outputs": [
        {
          "output_type": "execute_result",
          "data": {
            "text/plain": [
              "array([[0.        , 0.11654906],\n",
              "       [0.        , 0.        ]])"
            ]
          },
          "metadata": {},
          "execution_count": 22
        }
      ]
    },
    {
      "cell_type": "markdown",
      "source": [
        "Get difference in days"
      ],
      "metadata": {
        "id": "37xJRTxznJeu"
      }
    },
    {
      "cell_type": "code",
      "source": [
        "today = pd.to_datetime('today')"
      ],
      "metadata": {
        "id": "N_9ze9nVnMpJ"
      },
      "execution_count": 40,
      "outputs": []
    },
    {
      "cell_type": "code",
      "source": [
        "df['date'] = pd.to_datetime(['2022-01-01', '2022-10-01', '2022-11-01', '2022-04-01', '2022-02-01'])\n",
        "df['days'] = (today - df['date']).dt.days"
      ],
      "metadata": {
        "id": "LYWEE1jPnLkT"
      },
      "execution_count": 43,
      "outputs": []
    },
    {
      "cell_type": "code",
      "source": [
        "df[df['days'] > 1].shape[0]"
      ],
      "metadata": {
        "colab": {
          "base_uri": "https://localhost:8080/"
        },
        "id": "XERk7AYJpw2p",
        "outputId": "337f0f40-c33e-47d1-dbef-0e8c7e3abcca"
      },
      "execution_count": 48,
      "outputs": [
        {
          "output_type": "execute_result",
          "data": {
            "text/plain": [
              "4"
            ]
          },
          "metadata": {},
          "execution_count": 48
        }
      ]
    }
  ]
}